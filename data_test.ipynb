{
 "cells": [
  {
   "cell_type": "code",
   "execution_count": 8,
   "metadata": {},
   "outputs": [],
   "source": [
    "import numpy as np\n",
    "from collections import namedtuple\n",
    "from commplax import comm\n",
    "import labptptm2\n"
   ]
  },
  {
   "cell_type": "code",
   "execution_count": 9,
   "metadata": {},
   "outputs": [],
   "source": [
    "dat_grp, sup_grp = labptptm2.select(1, 0, 4, 2)"
   ]
  },
  {
   "cell_type": "code",
   "execution_count": 16,
   "metadata": {},
   "outputs": [
    {
     "data": {
      "text/html": [
       "<table class=\"zarr-info\"><tbody><tr><th style=\"text-align: left\">Name</th><td style=\"text-align: left\">/1125km_SSMF/src1/0dBm_ch4_2</td></tr><tr><th style=\"text-align: left\">Type</th><td style=\"text-align: left\">zarr.hierarchy.Group</td></tr><tr><th style=\"text-align: left\">Read-only</th><td style=\"text-align: left\">False</td></tr><tr><th style=\"text-align: left\">Store type</th><td style=\"text-align: left\">zarr.storage.ConsolidatedMetadataStore</td></tr><tr><th style=\"text-align: left\">Chunk store type</th><td style=\"text-align: left\">zarr.storage.FSStore</td></tr><tr><th style=\"text-align: left\">No. members</th><td style=\"text-align: left\">2</td></tr><tr><th style=\"text-align: left\">No. arrays</th><td style=\"text-align: left\">2</td></tr><tr><th style=\"text-align: left\">No. groups</th><td style=\"text-align: left\">0</td></tr><tr><th style=\"text-align: left\">Arrays</th><td style=\"text-align: left\">recv, sent</td></tr></tbody></table>"
      ],
      "text/plain": [
       "Name             : /1125km_SSMF/src1/0dBm_ch4_2\n",
       "Type             : zarr.hierarchy.Group\n",
       "Read-only        : False\n",
       "Store type       : zarr.storage.ConsolidatedMetadataStore\n",
       "Chunk store type : zarr.storage.FSStore\n",
       "No. members      : 2\n",
       "No. arrays       : 2\n",
       "No. groups       : 0\n",
       "Arrays           : recv, sent"
      ]
     },
     "execution_count": 16,
     "metadata": {},
     "output_type": "execute_result"
    }
   ],
   "source": [
    "dat_grp[0].info"
   ]
  },
  {
   "cell_type": "code",
   "execution_count": 17,
   "metadata": {},
   "outputs": [
    {
     "data": {
      "text/plain": [
       "{'baudrate': 36000000000.0,\n",
       " 'channelindex': 4,\n",
       " 'channels': 7,\n",
       " 'distance': 1125000.0,\n",
       " 'lpdbm': 0.0,\n",
       " 'lpw': 0.001,\n",
       " 'modformat': '16QAM',\n",
       " 'polmux': 1,\n",
       " 'samplerate': 72000000000.0,\n",
       " 'spans': 15,\n",
       " 'srcid': 'src1'}"
      ]
     },
     "execution_count": 17,
     "metadata": {},
     "output_type": "execute_result"
    }
   ],
   "source": [
    "dict(dat_grp[0].attrs)"
   ]
  },
  {
   "cell_type": "code",
   "execution_count": 26,
   "metadata": {},
   "outputs": [
    {
     "data": {
      "text/plain": [
       "(100000, 2)"
      ]
     },
     "execution_count": 26,
     "metadata": {},
     "output_type": "execute_result"
    }
   ],
   "source": [
    "dat_grp[0]['recv'][:100000].shape"
   ]
  }
 ],
 "metadata": {
  "interpreter": {
   "hash": "531552b898093c495d5d7fbfac81f0b68153c16134e4b180957a1aaadf98359a"
  },
  "kernelspec": {
   "display_name": "Python 3.8.12 64-bit ('commplax': conda)",
   "name": "python3"
  },
  "language_info": {
   "codemirror_mode": {
    "name": "ipython",
    "version": 3
   },
   "file_extension": ".py",
   "mimetype": "text/x-python",
   "name": "python",
   "nbconvert_exporter": "python",
   "pygments_lexer": "ipython3",
   "version": "3.8.12"
  },
  "orig_nbformat": 4
 },
 "nbformat": 4,
 "nbformat_minor": 2
}
